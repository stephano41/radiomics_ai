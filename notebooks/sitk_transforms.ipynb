{
 "cells": [
  {
   "cell_type": "code",
   "execution_count": 1,
   "metadata": {
    "collapsed": true,
    "ExecuteTime": {
     "end_time": "2023-08-14T12:30:03.490706800Z",
     "start_time": "2023-08-14T12:30:03.450105200Z"
    }
   },
   "outputs": [
    {
     "name": "stdout",
     "output_type": "stream",
     "text": [
      "/opt/project\n"
     ]
    }
   ],
   "source": [
    "import os\n",
    "os.chdir('/opt/project')\n",
    "print(os.getcwd())"
   ]
  },
  {
   "cell_type": "code",
   "execution_count": 2,
   "outputs": [
    {
     "name": "stdout",
     "output_type": "stream",
     "text": [
      "SimpleITK Version: 2.1.1.2 (ITK 5.2)\n",
      "Compiled: Apr 11 2022 23:40:09\n",
      "\n"
     ]
    }
   ],
   "source": [
    "import SimpleITK as sitk\n",
    "import numpy as np\n",
    "import os\n",
    "\n",
    "%matplotlib inline\n",
    "import matplotlib.pyplot as plt\n",
    "from ipywidgets import interact, fixed\n",
    "\n",
    "OUTPUT_DIR = \"./outputs\"\n",
    "\n",
    "print(sitk.Version())"
   ],
   "metadata": {
    "collapsed": false,
    "ExecuteTime": {
     "end_time": "2023-08-14T12:31:25.218471400Z",
     "start_time": "2023-08-14T12:31:23.657837400Z"
    }
   }
  },
  {
   "cell_type": "code",
   "execution_count": 6,
   "outputs": [],
   "source": [
    "from src.dataset import ImageDataset\n",
    "\n",
    "from src.pipeline.pipeline_components import get_data\n",
    "from radiomics import imageoperations\n",
    "from radiomics.imageoperations import _checkROI\n",
    "from tqdm import tqdm\n",
    "\n",
    "\n",
    "dataset = get_data('./data/meningioma_data', 't1ce', 'mask')\n",
    "\n",
    "\n",
    "class MRIDataPreprocessor:\n",
    "    def __init__(self, dataset: ImageDataset, **settings):\n",
    "        self.dataset = dataset\n",
    "\n",
    "        self._settings = settings.copy()\n",
    "\n",
    "        self.label = settings.get('label', 1)\n",
    "        self.label_channel = settings.get('label_channel', 0)\n",
    "        self.interpolator = settings.get('interpolator', sitk.sitkBSpline)\n",
    "        self.padDistance = settings.get('padDistance', 5)\n",
    "\n",
    "    def load_nifti(self, image_filename, mask_filename):\n",
    "        image = sitk.ReadImage(image_filename)\n",
    "        mask = imageoperations.getMask(sitk.ReadImage(mask_filename), label=self.label,\n",
    "                                       label_channel=self.label_channel)\n",
    "        return image, mask\n",
    "\n",
    "    def crop_to_mask(self, image, mask):\n",
    "        boundingBox, correctedMask = imageoperations.checkMask(image, mask,\n",
    "                                                               **self._settings)\n",
    "        if correctedMask is not None:\n",
    "            mask = correctedMask\n",
    "\n",
    "        if boundingBox is None:\n",
    "            raise ValueError('Mask checks failed during pre-crop')\n",
    "        cropped_image, cropped_mask = imageoperations.cropToTumorMask(image, mask, boundingBox)\n",
    "        return cropped_image, cropped_mask\n",
    "\n",
    "    def resample_image_mask(self, image, mask, new_size):\n",
    "        new_spacing = [curr * orig / new for curr, orig, new in\n",
    "                       zip(image.GetSpacing(), image.GetSize(), new_size)]\n",
    "\n",
    "        bb = _checkROI(image, mask, label=self.label)\n",
    "\n",
    "        direction = np.array(mask.GetDirection())\n",
    "\n",
    "        maskSpacing = np.array(mask.GetSpacing())\n",
    "        Nd_mask = len(maskSpacing)\n",
    "\n",
    "        spacingRatio = maskSpacing / new_spacing\n",
    "\n",
    "        # Determine bounds of cropped volume in terms of new Index coordinate space,\n",
    "        # round down for lowerbound and up for upperbound to ensure entire segmentation is captured (prevent data loss)\n",
    "        # Pad with an extra .5 to prevent data loss in case of upsampling. For Ubound this is (-1 + 0.5 = -0.5)\n",
    "        bbNewLBound = np.floor((bb[:Nd_mask] - 0.5) * spacingRatio - self.padDistance)\n",
    "\n",
    "        # Ensure resampling is not performed outside bounds of original image\n",
    "        bbNewLBound = np.where(bbNewLBound < 0, 0, bbNewLBound)\n",
    "\n",
    "        bbOriginalLBound = bbNewLBound / spacingRatio\n",
    "        newOriginIndex = np.array(.5 * (new_spacing - maskSpacing) / maskSpacing)\n",
    "        newCroppedOriginIndex = newOriginIndex + bbOriginalLBound\n",
    "        newOrigin = mask.TransformContinuousIndexToPhysicalPoint(newCroppedOriginIndex)\n",
    "\n",
    "        imagePixelType = image.GetPixelID()\n",
    "        maskPixelType = mask.GetPixelID()\n",
    "\n",
    "        rif = sitk.ResampleImageFilter()\n",
    "\n",
    "        rif.SetOutputSpacing(new_spacing)\n",
    "        rif.SetOutputDirection(direction)\n",
    "        rif.SetSize(new_size)\n",
    "        rif.SetOutputOrigin(newOrigin)\n",
    "\n",
    "        rif.SetOutputPixelType(imagePixelType)\n",
    "        rif.SetInterpolator(self.interpolator)\n",
    "        resampledImageNode = rif.Execute(image)\n",
    "\n",
    "        rif.SetOutputPixelType(maskPixelType)\n",
    "        rif.SetInterpolator(sitk.sitkNearestNeighbor)\n",
    "        resampledMaskNode = rif.Execute(mask)\n",
    "\n",
    "        return resampledImageNode, resampledMaskNode\n",
    "\n",
    "    def augment_image(self, image, mask):\n",
    "        # num_rotations = random.randint(0,3)\n",
    "    # TODO augment images\n",
    "        pass\n",
    "\n",
    "    def preprocess(self) -> (np.ndarray, np.ndarray):\n",
    "        images = []\n",
    "        masks = []\n",
    "\n",
    "        # Load images and masks, crop, resample, and convert to numpy arrays\n",
    "        smallest_size = None\n",
    "        for image_path, mask_path in tqdm(zip(self.dataset.image_paths, self.dataset.mask_paths),\n",
    "                                          total=len(self.dataset.image_paths),\n",
    "                                          desc=\"Processing MRI Data\"):\n",
    "            image, mask = self.load_nifti(image_path, mask_path)\n",
    "\n",
    "            cropped_image, cropped_mask = self.crop_to_mask(image, mask)\n",
    "\n",
    "            if smallest_size is None:\n",
    "                smallest_size = cropped_image.GetSize()\n",
    "            else:\n",
    "                smallest_size = [min(s, c) for s, c in zip(smallest_size, cropped_image.GetSize())]\n",
    "\n",
    "            images.append(cropped_image)\n",
    "            masks.append(cropped_mask)\n",
    "\n",
    "        # adjust smallest_size to be a square otherwise conv layers won't like it\n",
    "        smallest_size = [min(smallest_size) for _ in range(len(smallest_size))]\n",
    "\n",
    "        for i in tqdm(range(len(images)), desc=\"Resampling and Converting to Numpy\"):\n",
    "            resampled_image, resampled_mask = self.resample_image_mask(images[i], masks[i], smallest_size)\n",
    "\n",
    "            assert np.equal(resampled_image.GetSize(),\n",
    "                            smallest_size).all(), f\"resampled image {resampled_image.GetSize()}, whereas smallest_size: {smallest_size}\"\n",
    "\n",
    "            images[i] = resampled_image\n",
    "            masks[i] = resampled_mask\n",
    "\n",
    "        return images, masks\n",
    "\n"
   ],
   "metadata": {
    "collapsed": false,
    "ExecuteTime": {
     "end_time": "2023-08-14T12:37:33.709241300Z",
     "start_time": "2023-08-14T12:37:32.770080400Z"
    }
   }
  },
  {
   "cell_type": "code",
   "execution_count": 7,
   "outputs": [
    {
     "name": "stderr",
     "output_type": "stream",
     "text": [
      "Processing MRI Data: 100% 115/115 [01:30<00:00,  1.27it/s]\n",
      "Resampling and Converting to Numpy: 100% 115/115 [00:00<00:00, 117.50it/s]\n"
     ]
    }
   ],
   "source": [
    "data_preprocessor = MRIDataPreprocessor(dataset)\n",
    "images, masks = data_preprocessor.preprocess()"
   ],
   "metadata": {
    "collapsed": false,
    "ExecuteTime": {
     "end_time": "2023-08-14T12:39:06.542906100Z",
     "start_time": "2023-08-14T12:37:35.147108900Z"
    }
   }
  },
  {
   "cell_type": "code",
   "execution_count": 8,
   "outputs": [
    {
     "data": {
      "text/plain": "<Figure size 640x480 with 1 Axes>",
      "image/png": "[encoded data removed]"
     },
     "metadata": {},
     "output_type": "display_data"
    }
   ],
   "source": [
    "def plot_debug(stk_image):\n",
    "    plt.figure()\n",
    "    plt.imshow(sitk.GetArrayFromImage(stk_image)[5, :, :], cmap='gray')\n",
    "    plt.show()\n",
    "\n",
    "plot_debug(images[0])"
   ],
   "metadata": {
    "collapsed": false,
    "ExecuteTime": {
     "end_time": "2023-08-14T12:39:13.500756500Z",
     "start_time": "2023-08-14T12:39:13.346915100Z"
    }
   }
  },
  {
   "cell_type": "code",
   "execution_count": 12,
   "outputs": [
    {
     "data": {
      "text/plain": "(2.75, 3.1666666666666665, 4.083333333333333)"
     },
     "execution_count": 12,
     "metadata": {},
     "output_type": "execute_result"
    }
   ],
   "source": [
    "images[0].GetSpacing()"
   ],
   "metadata": {
    "collapsed": false,
    "ExecuteTime": {
     "end_time": "2023-08-14T12:58:02.372627Z",
     "start_time": "2023-08-14T12:58:02.368409500Z"
    }
   }
  },
  {
   "cell_type": "code",
   "execution_count": 15,
   "outputs": [
    {
     "data": {
      "text/plain": "<Figure size 640x480 with 1 Axes>",
      "image/png": "[encoded data removed]"
     },
     "metadata": {},
     "output_type": "display_data"
    },
    {
     "data": {
      "text/plain": "<Figure size 640x480 with 1 Axes>",
      "image/png": "[encoded data removed]"
     },
     "metadata": {},
     "output_type": "display_data"
    }
   ],
   "source": [
    "def flip_image(image):\n",
    "    dimension = image.GetDimension()\n",
    "\n",
    "    reference_origin = np.zeros(dimension)\n",
    "    reference_size = image.GetSize()\n",
    "    reference_spacing = image.GetSpacing()\n",
    "    reference_direction = np.identity(dimension).flatten()\n",
    "\n",
    "    reference_image = sitk.Image(reference_size, image.GetPixelIDValue())\n",
    "    reference_image.SetOrigin(reference_origin)\n",
    "    reference_image.SetSpacing(reference_spacing)\n",
    "    reference_image.SetDirection(reference_direction)\n",
    "\n",
    "    reference_center = np.array(reference_image.TransformContinuousIndexToPhysicalPoint(np.array(reference_image.GetSize())/2.0))\n",
    "\n",
    "    transform = sitk.AffineTransform(dimension)\n",
    "    transform.SetMatrix(image.GetDirection())\n",
    "    transform.SetTranslation(np.array(image.GetOrigin()) - reference_origin)\n",
    "    centering_transform = sitk.TranslationTransform(dimension)\n",
    "    img_center = np.array(\n",
    "        image.TransformContinuousIndexToPhysicalPoint(np.array(image.GetSize()) / 2.0)\n",
    "    )\n",
    "    centering_transform.SetOffset(\n",
    "        np.array(transform.GetInverse().TransformPoint(img_center) - reference_center)\n",
    "    )\n",
    "    centered_transform = sitk.CompositeTransform([transform, centering_transform])\n",
    "\n",
    "    flipped_transform = sitk.AffineTransform(dimension)\n",
    "    flipped_transform.SetCenter(\n",
    "        reference_image.TransformContinuousIndexToPhysicalPoint(\n",
    "            np.array(reference_image.GetSize()) / 2.0\n",
    "        )\n",
    "    )\n",
    "    if dimension == 2:  # matrices in SimpleITK specified in row major order\n",
    "        flipped_transform.SetMatrix([1, 0, 0, -1])\n",
    "    else:\n",
    "        flipped_transform.SetMatrix([1, 0, 0, 0, -1, 0, 0, 0, 1])\n",
    "    centered_transform.AddTransform(flipped_transform)\n",
    "\n",
    "    return sitk.Resample(image, reference_image, centered_transform, sitk.sitkLinear, 0.0)\n",
    "\n",
    "flipped_image = flip_image(images[0])\n",
    "\n",
    "plot_debug(images[0])\n",
    "plot_debug(flipped_image)"
   ],
   "metadata": {
    "collapsed": false,
    "ExecuteTime": {
     "end_time": "2023-08-14T13:07:07.595678100Z",
     "start_time": "2023-08-14T13:07:07.439660300Z"
    }
   }
  },
  {
   "cell_type": "code",
   "execution_count": 18,
   "outputs": [
    {
     "data": {
      "text/plain": "<Figure size 640x480 with 1 Axes>",
      "image/png": "[encoded data removed]"
     },
     "metadata": {},
     "output_type": "display_data"
    },
    {
     "data": {
      "text/plain": "<Figure size 640x480 with 1 Axes>",
      "image/png": "[encoded data removed]"
     },
     "metadata": {},
     "output_type": "display_data"
    },
    {
     "data": {
      "text/plain": "<Figure size 640x480 with 1 Axes>",
      "image/png": "[encoded data removed]"
     },
     "metadata": {},
     "output_type": "display_data"
    }
   ],
   "source": [
    "def eul2quat(ax, ay, az, atol=1e-8):\n",
    "    \"\"\"\n",
    "    Translate between Euler angle (ZYX) order and quaternion representation of a rotation.\n",
    "    Args:\n",
    "        ax: X rotation angle in radians.\n",
    "        ay: Y rotation angle in radians.\n",
    "        az: Z rotation angle in radians.\n",
    "        atol: tolerance used for stable quaternion computation (qs==0 within this tolerance).\n",
    "    Return:\n",
    "        Numpy array with three entries representing the vectoral component of the quaternion.\n",
    "\n",
    "    \"\"\"\n",
    "    # Create rotation matrix using ZYX Euler angles and then compute quaternion using entries.\n",
    "    cx = np.cos(ax)\n",
    "    cy = np.cos(ay)\n",
    "    cz = np.cos(az)\n",
    "    sx = np.sin(ax)\n",
    "    sy = np.sin(ay)\n",
    "    sz = np.sin(az)\n",
    "    r = np.zeros((3, 3))\n",
    "    r[0, 0] = cz * cy\n",
    "    r[0, 1] = cz * sy * sx - sz * cx\n",
    "    r[0, 2] = cz * sy * cx + sz * sx\n",
    "\n",
    "    r[1, 0] = sz * cy\n",
    "    r[1, 1] = sz * sy * sx + cz * cx\n",
    "    r[1, 2] = sz * sy * cx - cz * sx\n",
    "\n",
    "    r[2, 0] = -sy\n",
    "    r[2, 1] = cy * sx\n",
    "    r[2, 2] = cy * cx\n",
    "\n",
    "    # Compute quaternion:\n",
    "    qs = 0.5 * np.sqrt(r[0, 0] + r[1, 1] + r[2, 2] + 1)\n",
    "    qv = np.zeros(3)\n",
    "    # If the scalar component of the quaternion is close to zero, we\n",
    "    # compute the vector part using a numerically stable approach\n",
    "    if np.isclose(qs, 0.0, atol):\n",
    "        i = np.argmax([r[0, 0], r[1, 1], r[2, 2]])\n",
    "        j = (i + 1) % 3\n",
    "        k = (j + 1) % 3\n",
    "        w = np.sqrt(r[i, i] - r[j, j] - r[k, k] + 1)\n",
    "        qv[i] = 0.5 * w\n",
    "        qv[j] = (r[i, j] + r[j, i]) / (2 * w)\n",
    "        qv[k] = (r[i, k] + r[k, i]) / (2 * w)\n",
    "    else:\n",
    "        denom = 4 * qs\n",
    "        qv[0] = (r[2, 1] - r[1, 2]) / denom\n",
    "        qv[1] = (r[0, 2] - r[2, 0]) / denom\n",
    "        qv[2] = (r[1, 0] - r[0, 1]) / denom\n",
    "    return qv\n",
    "\n",
    "def similarity3D_parameter_space_random_sampling(\n",
    "    thetaX, thetaY, thetaZ, tx, ty, tz, scale, n\n",
    "):\n",
    "    \"\"\"\n",
    "    Create a list representing a random (uniform) sampling of the 3D similarity transformation parameter space. As the\n",
    "    SimpleITK rotation parametrization uses the vector portion of a versor we don't have an\n",
    "    intuitive way of specifying rotations. We therefor use the ZYX Euler angle parametrization and convert to\n",
    "    versor.\n",
    "    Args:\n",
    "        thetaX, thetaY, thetaZ: Ranges of Euler angle values to use, in radians.\n",
    "        tx, ty, tz: Ranges of translation values to use in mm.\n",
    "        scale: Range of scale values to use.\n",
    "        n: Number of samples.\n",
    "    Return:\n",
    "        List of lists representing the parameter space sampling (vx,vy,vz,tx,ty,tz,s).\n",
    "    \"\"\"\n",
    "    theta_x_vals = (thetaX[1] - thetaX[0]) * np.random.random(n) + thetaX[0]\n",
    "    theta_y_vals = (thetaY[1] - thetaY[0]) * np.random.random(n) + thetaY[0]\n",
    "    theta_z_vals = (thetaZ[1] - thetaZ[0]) * np.random.random(n) + thetaZ[0]\n",
    "    tx_vals = (tx[1] - tx[0]) * np.random.random(n) + tx[0]\n",
    "    ty_vals = (ty[1] - ty[0]) * np.random.random(n) + ty[0]\n",
    "    tz_vals = (tz[1] - tz[0]) * np.random.random(n) + tz[0]\n",
    "    s_vals = (scale[1] - scale[0]) * np.random.random(n) + scale[0]\n",
    "    res = list(\n",
    "        zip(theta_x_vals, theta_y_vals, theta_z_vals, tx_vals, ty_vals, tz_vals, s_vals)\n",
    "    )\n",
    "    return [list(eul2quat(*(p[0:3]))) + list(p[3:7]) for p in res]\n",
    "\n",
    "def augment_images_spatial(\n",
    "    original_image,\n",
    "    reference_image,\n",
    "    T0,\n",
    "    T_aug,\n",
    "    transformation_parameters,\n",
    "    interpolator=sitk.sitkLinear,\n",
    "    default_intensity_value=0.0,\n",
    "    additional_image_information=None,\n",
    "):\n",
    "    \"\"\"\n",
    "    Generate the resampled images based on the given transformations.\n",
    "    Note: Images are written to disk with the useCompression flag\n",
    "          set to true. This uses the default compression level for the user selected file\n",
    "          format (via output_suffix).\n",
    "    Args:\n",
    "        original_image (SimpleITK image): The image which we will resample and transform.\n",
    "        reference_image (SimpleITK image): The image onto which we will resample.\n",
    "        T0 (SimpleITK transform): Transformation which maps points from the reference image coordinate system\n",
    "            to the original_image coordinate system.\n",
    "        T_aug (SimpleITK transform): Map points from the reference_image coordinate system back onto itself using the\n",
    "               given transformation_parameters. The reason we use this transformation as a parameter\n",
    "               is to allow the user to set its center of rotation to something other than zero.\n",
    "        transformation_parameters (List of lists): parameter values which we use T_aug.SetParameters().\n",
    "        output_prefix (string): output file name prefix (file name: output_prefix_p1_p2_..pn_.output_suffix).\n",
    "        output_suffix (string): output file name suffix (file name: output_prefix_p1_p2_..pn_.output_suffix), also determines\n",
    "                                the file formt usef for writing to disk.\n",
    "        interpolator: One of the SimpleITK interpolators.\n",
    "        default_intensity_value: The value to return if a point is mapped outside the original_image domain.\n",
    "        additional_image_information: (Iterable([SimpleITK.Image, Interpolator, default_intensity_value])): Apply the same\n",
    "                                     transformations to this set of images using the given interpolators and intensity values.\n",
    "                                     The iterable cannot be a zip because that will not allow for repeated iterations.\n",
    "    \"\"\"\n",
    "    all_images = []  # Used only for display purposes in this notebook.\n",
    "    for current_parameters in transformation_parameters:\n",
    "        T_aug.SetParameters(current_parameters)\n",
    "        # Augmentation is done in the reference image space, so we first map the points from the reference image space\n",
    "        # back onto itself T_aug (e.g. rotate the reference image) and then we map to the original image space T0.\n",
    "        T_all = sitk.CompositeTransform(T0)\n",
    "        T_all.AddTransform(T_aug)\n",
    "        aug_image = sitk.Resample(\n",
    "            original_image,\n",
    "            reference_image,\n",
    "            T_all,\n",
    "            interpolator,\n",
    "            default_intensity_value,\n",
    "        )\n",
    "        # Iterate over all additional images and apply the same transform to them using their specific\n",
    "        # interpolator and default intensity value (e.g. for a segmentation image sitk.sitkNearestNeighbor and 0)\n",
    "        if additional_image_information is not None:\n",
    "            for i, (\n",
    "                additional_image,\n",
    "                additional_interpolator,\n",
    "                additional_default_intensity_value,\n",
    "            ) in enumerate(additional_image_information):\n",
    "                additional_aug_image = sitk.Resample(\n",
    "                    additional_image,\n",
    "                    reference_image,\n",
    "                    T_all,\n",
    "                    additional_interpolator,\n",
    "                    additional_default_intensity_value,\n",
    "                )\n",
    "        all_images.append(aug_image)  # Used only for display purposes in this notebook.\n",
    "    return all_images  # Used only for display purposes in this notebook.\n",
    "\n",
    "\n",
    "def similarity_transform3D(image, aug_transform=sitk.Similarity3DTransform()):\n",
    "\n",
    "    dimension = image.GetDimension()\n",
    "    reference_origin = np.zeros(dimension)\n",
    "    reference_size = image.GetSize()\n",
    "    reference_spacing = image.GetSpacing()\n",
    "    reference_direction = np.identity(dimension).flatten()\n",
    "\n",
    "    reference_image = sitk.Image(reference_size, image.GetPixelIDValue())\n",
    "    reference_image.SetOrigin(reference_origin)\n",
    "    reference_image.SetSpacing(reference_spacing)\n",
    "    reference_image.SetDirection(reference_direction)\n",
    "\n",
    "    reference_center = np.array(reference_image.TransformContinuousIndexToPhysicalPoint(np.array(reference_image.GetSize())/2.0))\n",
    "\n",
    "    transform = sitk.AffineTransform(dimension)\n",
    "    transform.SetMatrix(image.GetDirection())\n",
    "    transform.SetTranslation(np.array(image.GetOrigin()) - reference_origin)\n",
    "    # Modify the transformation to align the centers of the original and reference image instead of their origins.\n",
    "    centering_transform = sitk.TranslationTransform(dimension)\n",
    "    img_center = np.array(\n",
    "        image.TransformContinuousIndexToPhysicalPoint(np.array(image.GetSize()) / 2.0)\n",
    "    )\n",
    "    centering_transform.SetOffset(\n",
    "        np.array(transform.GetInverse().TransformPoint(img_center) - reference_center)\n",
    "    )\n",
    "    centered_transform = sitk.CompositeTransform(transform)\n",
    "    centered_transform.AddTransform(centering_transform)\n",
    "\n",
    "    # Set the augmenting transform's center so that rotation is around the image center.\n",
    "    aug_transform.SetCenter(reference_center)\n",
    "\n",
    "    transformation_parameters_list = similarity3D_parameter_space_random_sampling(\n",
    "            thetaX=(0, 0),\n",
    "            thetaY=(0, 0),\n",
    "            thetaZ=(-np.pi / 2, np.pi / 2),\n",
    "            tx=(0,0),\n",
    "            ty=(0,0),\n",
    "            tz=(0,0),\n",
    "            scale=(1,1),\n",
    "            n=2)\n",
    "\n",
    "    generated_images = augment_images_spatial(\n",
    "        image,\n",
    "        reference_image,\n",
    "        centered_transform,\n",
    "        aug_transform,\n",
    "        transformation_parameters_list,\n",
    "        additional_image_information=None,\n",
    "    )\n",
    "\n",
    "    return generated_images\n",
    "\n",
    "rotated_image = similarity_transform3D(images[0])\n",
    "\n",
    "plot_debug(images[0])\n",
    "plot_debug(rotated_image[0])\n",
    "plot_debug(rotated_image[1])"
   ],
   "metadata": {
    "collapsed": false,
    "ExecuteTime": {
     "end_time": "2023-08-14T13:47:27.057757800Z",
     "start_time": "2023-08-14T13:47:26.820737Z"
    }
   }
  },
  {
   "cell_type": "markdown",
   "source": [],
   "metadata": {
    "collapsed": false
   }
  }
 ],
 "metadata": {
  "kernelspec": {
   "display_name": "Python 3",
   "language": "python",
   "name": "python3"
  },
  "language_info": {
   "codemirror_mode": {
    "name": "ipython",
    "version": 2
   },
   "file_extension": ".py",
   "mimetype": "text/x-python",
   "name": "python",
   "nbconvert_exporter": "python",
   "pygments_lexer": "ipython2",
   "version": "2.7.6"
  }
 },
 "nbformat": 4,
 "nbformat_minor": 0
}
