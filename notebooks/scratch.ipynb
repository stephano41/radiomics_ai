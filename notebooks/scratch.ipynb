{
 "cells": [
  {
   "cell_type": "code",
   "execution_count": 10,
   "metadata": {
    "collapsed": true,
    "ExecuteTime": {
     "start_time": "2023-06-20T23:02:12.355488Z",
     "end_time": "2023-06-20T23:02:12.577142Z"
    }
   },
   "outputs": [
    {
     "name": "stdout",
     "output_type": "stream",
     "text": [
      "done\n"
     ]
    }
   ],
   "source": [
    "import pandas as pd\n",
    "from radiomics import featureextractor\n",
    "\n",
    "import six, numpy as np\n",
    "print(\"done\")"
   ]
  },
  {
   "cell_type": "code",
   "execution_count": 27,
   "outputs": [],
   "source": [
    "import os\n",
    "import SimpleITK as sitk\n",
    "\n",
    "from radiomics import getTestCase\n",
    "\n",
    "imagepath_1, labelpath_1 = getTestCase('brain1')\n",
    "imagepath_2, labelpath_2 = getTestCase('brain2')\n",
    "\n",
    "image_1 = sitk.ReadImage(imagepath_1)\n",
    "label_1 = sitk.ReadImage(labelpath_1)\n",
    "image_2 = sitk.ReadImage(imagepath_2)\n",
    "label_2 = sitk.ReadImage(labelpath_2)\n"
   ],
   "metadata": {
    "collapsed": false,
    "ExecuteTime": {
     "start_time": "2023-06-20T23:06:18.848164Z",
     "end_time": "2023-06-20T23:09:20.345473Z"
    }
   }
  },
  {
   "cell_type": "code",
   "execution_count": 12,
   "outputs": [
    {
     "data": {
      "text/plain": "<Figure size 2000x2000 with 4 Axes>"
     },
     "metadata": {},
     "output_type": "display_data"
    }
   ],
   "source": [
    "%matplotlib inline\n",
    "import matplotlib.pyplot as plt\n",
    "\n",
    "plt.figure(figsize=(20,20))\n",
    "plt.subplot(2,2,1)\n",
    "plt.imshow(sitk.GetArrayFromImage(image_1)[12,:,:], cmap=\"gray\")\n",
    "plt.title(\"Brain #1\")\n",
    "plt.subplot(2,2,2)\n",
    "plt.imshow(sitk.GetArrayFromImage(image_1)[12,:,:])\n",
    "plt.title(\"Segmentation #1\")\n",
    "\n",
    "plt.subplot(2,2,3)\n",
    "plt.imshow(sitk.GetArrayFromImage(image_2)[8,:,:], cmap=\"gray\")\n",
    "plt.title(\"Brain #2\")\n",
    "plt.subplot(2,2,4)\n",
    "plt.imshow(sitk.GetArrayFromImage(image_2)[8,:,:])\n",
    "plt.title(\"Segmentation #2\")\n",
    "\n",
    "plt.show()"
   ],
   "metadata": {
    "collapsed": false,
    "ExecuteTime": {
     "start_time": "2023-06-20T23:02:12.472524Z",
     "end_time": "2023-06-20T23:02:12.741748Z"
    }
   }
  },
  {
   "cell_type": "code",
   "execution_count": 13,
   "outputs": [
    {
     "name": "stderr",
     "output_type": "stream",
     "text": [
      "INFO:radiomics.featureextractor:Loading parameter file C:\\Users\\steve\\OneDrive - University of Adelaide\\Python Scripts\\MRI_sarcoma_AI\\example_settings\\Params.yaml\n",
      "INFO:radiomics.featureextractor:Calculating features with label: 1\n",
      "INFO:radiomics.featureextractor:Loading image and mask\n",
      "INFO:radiomics.featureextractor:Computing shape\n",
      "INFO:radiomics.featureextractor:Adding image type \"Original\" with custom settings: {}\n",
      "INFO:radiomics.featureextractor:Calculating features for original image\n",
      "INFO:radiomics.featureextractor:Computing firstorder\n",
      "INFO:radiomics.featureextractor:Computing glcm\n",
      "INFO:radiomics.featureextractor:Computing glrlm\n",
      "INFO:radiomics.featureextractor:Computing glszm\n",
      "INFO:radiomics.featureextractor:Computing gldm\n",
      "INFO:radiomics.featureextractor:Calculating features with label: 1\n",
      "INFO:radiomics.featureextractor:Loading image and mask\n",
      "INFO:radiomics.featureextractor:Computing shape\n",
      "INFO:radiomics.featureextractor:Adding image type \"Original\" with custom settings: {}\n",
      "INFO:radiomics.featureextractor:Calculating features for original image\n",
      "INFO:radiomics.featureextractor:Computing firstorder\n",
      "INFO:radiomics.featureextractor:Computing glcm\n",
      "INFO:radiomics.featureextractor:Computing glrlm\n",
      "INFO:radiomics.featureextractor:Computing glszm\n",
      "INFO:radiomics.featureextractor:Computing gldm\n"
     ]
    }
   ],
   "source": [
    "import os\n",
    "\n",
    "params = os.path.join(os.getcwd(), 'example_settings', 'Params.yaml')\n",
    "\n",
    "extractor = featureextractor.RadiomicsFeatureExtractor(params)\n",
    "result_1 = extractor.execute(image_1, label_1)\n",
    "result_2 = extractor.execute(image_2, label_2)"
   ],
   "metadata": {
    "collapsed": false,
    "ExecuteTime": {
     "start_time": "2023-06-20T23:02:12.743887Z",
     "end_time": "2023-06-20T23:02:13.405095Z"
    }
   }
  },
  {
   "cell_type": "code",
   "execution_count": 14,
   "outputs": [],
   "source": [
    "feature_1 = np.array([])\n",
    "feature_2 = np.array([])\n",
    "\n",
    "for key, value in six.iteritems(result_1):\n",
    "    if key.startswith(\"original_\"):\n",
    "        feature_1 = np.append(feature_1, result_1[key])\n",
    "        feature_2 = np.append(feature_2, result_2[key])"
   ],
   "metadata": {
    "collapsed": false,
    "ExecuteTime": {
     "start_time": "2023-06-20T23:02:13.415105Z",
     "end_time": "2023-06-20T23:02:13.436834Z"
    }
   }
  },
  {
   "cell_type": "code",
   "execution_count": 15,
   "outputs": [
    {
     "data": {
      "text/plain": "<Figure size 2000x2000 with 3 Axes>"
     },
     "metadata": {},
     "output_type": "display_data"
    }
   ],
   "source": [
    "plt.figure(figsize=(20,20))\n",
    "plt.subplot(3,1,1)\n",
    "plt.plot(feature_1)\n",
    "plt.yscale('log')\n",
    "plt.title('Features from brain #1')\n",
    "\n",
    "plt.subplot(3,1,2)\n",
    "plt.plot(feature_2)\n",
    "plt.yscale('log')\n",
    "plt.title(\"features from brain #2\")\n",
    "\n",
    "plt.subplot(3,1,3)\n",
    "plt.plot(feature_1 - feature_2)\n",
    "plt.yscale('log')\n",
    "plt.title(\"Difference\")\n",
    "\n",
    "plt.show()"
   ],
   "metadata": {
    "collapsed": false,
    "ExecuteTime": {
     "start_time": "2023-06-20T23:02:13.446843Z",
     "end_time": "2023-06-20T23:02:13.564237Z"
    }
   }
  },
  {
   "cell_type": "code",
   "execution_count": 22,
   "outputs": [
    {
     "data": {
      "text/plain": "<Figure size 2000x2000 with 1 Axes>"
     },
     "metadata": {},
     "output_type": "display_data"
    }
   ],
   "source": [
    "# test opening nii images\n",
    "import SimpleITK as sitk\n",
    "import matplotlib.pyplot as plt\n",
    "%matplotlib inline\n",
    "\n",
    "image_1 = sitk.ReadImage('./data/STS_001/image.nii.gz')\n",
    "plt.figure(figsize=(20,20))\n",
    "plt.subplot(1,1,1)\n",
    "plt.imshow(sitk.GetArrayFromImage(image_1)[12,:,:], cmap=\"gray\")\n",
    "plt.show()"
   ],
   "metadata": {
    "collapsed": false,
    "ExecuteTime": {
     "start_time": "2023-06-20T23:03:50.497570Z",
     "end_time": "2023-06-20T23:03:50.622846Z"
    }
   }
  },
  {
   "cell_type": "code",
   "execution_count": 2,
   "outputs": [
    {
     "name": "stdout",
     "output_type": "stream",
     "text": [
      "/opt/project\n"
     ]
    }
   ],
   "source": [
    "import os\n",
    "os.chdir('/opt/project')\n",
    "print(os.getcwd())"
   ],
   "metadata": {
    "collapsed": false,
    "ExecuteTime": {
     "end_time": "2023-08-04T10:40:29.564326900Z",
     "start_time": "2023-08-04T10:40:29.556359700Z"
    }
   }
  },
  {
   "cell_type": "code",
   "execution_count": 3,
   "outputs": [],
   "source": [
    "from src.pipeline.pipeline_components import get_data\n",
    "\n",
    "dataset = get_data('./data/wiki_sarcoma', 'image', 'mask_GTV_Mass')"
   ],
   "metadata": {
    "collapsed": false,
    "ExecuteTime": {
     "end_time": "2023-08-04T10:40:36.800530Z",
     "start_time": "2023-08-04T10:40:32.202037400Z"
    }
   }
  },
  {
   "cell_type": "markdown",
   "source": [],
   "metadata": {
    "collapsed": false
   }
  },
  {
   "cell_type": "code",
   "execution_count": 6,
   "outputs": [
    {
     "name": "stdout",
     "output_type": "stream",
     "text": [
      "(40, 384, 384)\n"
     ]
    }
   ],
   "source": [
    "import SimpleITK as sitk\n",
    "imagepath_1 = \"data/wiki_sarcoma/STS_001/image.nii.gz\"\n",
    "\n",
    "image_1 = sitk.ReadImage(imagepath_1)\n",
    "print(sitk.GetArrayFromImage(image_1).shape)"
   ],
   "metadata": {
    "collapsed": false,
    "ExecuteTime": {
     "end_time": "2023-08-04T10:43:09.655956Z",
     "start_time": "2023-08-04T10:43:09.416844700Z"
    }
   }
  }
 ],
 "metadata": {
  "kernelspec": {
   "display_name": "Python 3",
   "language": "python",
   "name": "python3"
  },
  "language_info": {
   "codemirror_mode": {
    "name": "ipython",
    "version": 2
   },
   "file_extension": ".py",
   "mimetype": "text/x-python",
   "name": "python",
   "nbconvert_exporter": "python",
   "pygments_lexer": "ipython2",
   "version": "2.7.6"
  }
 },
 "nbformat": 4,
 "nbformat_minor": 0
}
