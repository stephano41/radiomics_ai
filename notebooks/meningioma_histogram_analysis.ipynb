{
 "cells": [
  {
   "cell_type": "code",
   "execution_count": 2,
   "metadata": {
    "collapsed": true,
    "ExecuteTime": {
     "end_time": "2023-10-19T08:18:27.704635400Z",
     "start_time": "2023-10-19T08:18:25.706124800Z"
    }
   },
   "outputs": [
    {
     "name": "stdout",
     "output_type": "stream",
     "text": [
      "/opt/project\n"
     ]
    }
   ],
   "source": [
    "import os\n",
    "os.chdir('/opt/project')\n",
    "print(os.getcwd())\n",
    "\n",
    "import pandas as pd\n",
    "from torchio import SubjectsDataset\n",
    "\n",
    "from src.preprocessing import SitkImageProcessor\n",
    "import os\n",
    "import torchio as tio\n",
    "import torch\n",
    "import scipy.ndimage as ndi\n",
    "import matplotlib.pyplot as plt\n",
    "from torchio.visualization import plot_histogram\n",
    "from tqdm import tqdm"
   ]
  },
  {
   "cell_type": "code",
   "execution_count": 3,
   "outputs": [],
   "source": [
    "def get_adc_tensor(ID_list, data_path, tio_transforms=None):\n",
    "    sitk_processor = SitkImageProcessor(data_path, mask_stem='mask',\n",
    "                                        image_stems=('registered_adc',))\n",
    "\n",
    "    subject_list = sitk_processor.transform(ID_list)['subjects'].to_list()\n",
    "\n",
    "    subject_dataset = SubjectsDataset(subject_list, transform=tio_transforms)\n",
    "\n",
    "    # adc_tensor = torch.concatenate(\n",
    "    #     [torch.concatenate([torch.flatten(i.data).nonzero() for i in subject.get_images()]) for subject in\n",
    "    #      subject_dataset])\n",
    "\n",
    "    adc_tensor = torch.tensor([[torch.mean(torch.flatten(i.data).nonzero().float()) for i in subject.get_images()] for subject in\n",
    "         tqdm(subject_dataset)])\n",
    "\n",
    "    return adc_tensor\n",
    "\n",
    "def get_id_by_grade(data_meta, grade):\n",
    "    data_meta = pd.read_csv(data_meta)\n",
    "    # ID_list = data_meta['ID'].to_list()\n",
    "    id = data_meta['Patient_ID'].loc[(data_meta['Grade'] == grade)].to_list()\n",
    "\n",
    "    return id\n",
    "\n",
    "def plot_histogram_by_grade(data_meta, data_path, grade, transforms=None, **kwargs):\n",
    "    id_list = get_id_by_grade(data_meta, grade)\n",
    "    adc_tensor = get_adc_tensor(id_list, data_path, tio_transforms=transforms)\n",
    "\n",
    "    # hist = ndi.histogram(adc_tensor, min=0, max=max_histo, bins=bins)\n",
    "    # plt.plot(hist)\n",
    "    plot_histogram(adc_tensor.numpy(), show=False, **kwargs)\n",
    "\n",
    "    return plt.gcf()\n",
    "\n",
    "def get_mean_by_grade(data_meta, data_path, grade, transforms=None):\n",
    "    id_list = get_id_by_grade(data_meta, grade)\n",
    "    adc_tensor = get_adc_tensor(id_list, data_path, tio_transforms=transforms)\n",
    "\n",
    "    return torch.mean(adc_tensor), torch.std(adc_tensor)"
   ],
   "metadata": {
    "collapsed": false,
    "ExecuteTime": {
     "end_time": "2023-10-19T08:18:31.568182400Z",
     "start_time": "2023-10-19T08:18:31.564374700Z"
    }
   }
  },
  {
   "cell_type": "code",
   "execution_count": 4,
   "outputs": [],
   "source": [
    "data_path = './data/meningioma_data'\n",
    "data_meta = './data/meningioma_meta.csv'\n",
    "\n",
    "transforms = tio.Compose([tio.Resample((1, 1, 1)),\n",
    "                          tio.CropOrPad(mask_name='mask'),\n",
    "                          tio.ToCanonical(),\n",
    "                          tio.Mask(masking_method='mask', outside_value=0),\n",
    "                          tio.ZNormalization(masking_method='mask')\n",
    "                          ])"
   ],
   "metadata": {
    "collapsed": false,
    "ExecuteTime": {
     "end_time": "2023-10-19T08:18:36.763143Z",
     "start_time": "2023-10-19T08:18:36.759981100Z"
    }
   }
  },
  {
   "cell_type": "code",
   "execution_count": 5,
   "outputs": [
    {
     "name": "stderr",
     "output_type": "stream",
     "text": [
      "100% 18/18 [00:25<00:00,  1.42s/it]\n",
      "100% 97/97 [01:57<00:00,  1.21s/it]\n"
     ]
    },
    {
     "data": {
      "text/plain": "<Figure size 640x480 with 1 Axes>",
      "image/png": "[encoded data removed]"
     },
     "metadata": {},
     "output_type": "display_data"
    }
   ],
   "source": [
    "plot_histogram_by_grade(data_meta,\n",
    "                        data_path=data_path,\n",
    "                        grade=1,\n",
    "                        transforms=transforms,\n",
    "                        alpha=0.5,\n",
    "                        color='red',\n",
    "                        label='Grade 1',\n",
    "                        density=False\n",
    "                        )\n",
    "\n",
    "plot_histogram_by_grade(data_meta,\n",
    "                        data_path=data_path,\n",
    "                        grade=0,\n",
    "                        transforms=transforms,\n",
    "                        alpha=0.5,\n",
    "                        color='lightblue',\n",
    "                        label='Grade 0',\n",
    "                        density=False\n",
    "                        )\n",
    "plt.legend()\n",
    "plt.show()"
   ],
   "metadata": {
    "collapsed": false,
    "ExecuteTime": {
     "end_time": "2023-10-19T08:21:06.345365500Z",
     "start_time": "2023-10-19T08:18:40.871457Z"
    }
   }
  },
  {
   "cell_type": "code",
   "execution_count": 7,
   "outputs": [
    {
     "name": "stderr",
     "output_type": "stream",
     "text": [
      "100% 18/18 [00:19<00:00,  1.09s/it]\n"
     ]
    },
    {
     "name": "stdout",
     "output_type": "stream",
     "text": [
      "Grade 1 mean 55859.8046875, std: 42191.26171875\n"
     ]
    },
    {
     "name": "stderr",
     "output_type": "stream",
     "text": [
      "100% 97/97 [01:42<00:00,  1.06s/it]"
     ]
    },
    {
     "name": "stdout",
     "output_type": "stream",
     "text": [
      "Grade 0 mean 43051.47265625, std: 40536.21484375\n"
     ]
    },
    {
     "name": "stderr",
     "output_type": "stream",
     "text": [
      "\n"
     ]
    }
   ],
   "source": [
    "mean, std = get_mean_by_grade(data_meta,\n",
    "                        data_path=data_path,\n",
    "                        grade=1,\n",
    "                        transforms=transforms)\n",
    "print(f\"Grade 1 mean {mean}, std: {std}\")\n",
    "\n",
    "mean, std = get_mean_by_grade(data_meta,\n",
    "                        data_path=data_path,\n",
    "                        grade=0,\n",
    "                        transforms=transforms)\n",
    "print(f\"Grade 0 mean {mean}, std: {std}\")"
   ],
   "metadata": {
    "collapsed": false,
    "ExecuteTime": {
     "end_time": "2023-10-19T08:29:41.523401600Z",
     "start_time": "2023-10-19T08:27:36.507201600Z"
    }
   }
  },
  {
   "cell_type": "code",
   "execution_count": null,
   "outputs": [],
   "source": [],
   "metadata": {
    "collapsed": false
   }
  }
 ],
 "metadata": {
  "kernelspec": {
   "display_name": "Python 3",
   "language": "python",
   "name": "python3"
  },
  "language_info": {
   "codemirror_mode": {
    "name": "ipython",
    "version": 2
   },
   "file_extension": ".py",
   "mimetype": "text/x-python",
   "name": "python",
   "nbconvert_exporter": "python",
   "pygments_lexer": "ipython2",
   "version": "2.7.6"
  }
 },
 "nbformat": 4,
 "nbformat_minor": 0
}
