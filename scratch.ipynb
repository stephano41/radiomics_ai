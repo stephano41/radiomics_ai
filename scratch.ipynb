{
 "cells": [
  {
   "cell_type": "code",
   "execution_count": 10,
   "metadata": {
    "collapsed": true,
    "ExecuteTime": {
     "start_time": "2023-06-20T23:02:12.355488Z",
     "end_time": "2023-06-20T23:02:12.577142Z"
    }
   },
   "outputs": [
    {
     "name": "stdout",
     "output_type": "stream",
     "text": [
      "done\n"
     ]
    }
   ],
   "source": [
    "from radiomics import featureextractor\n",
    "\n",
    "import six, numpy as np\n",
    "print(\"done\")"
   ]
  },
  {
   "cell_type": "code",
   "execution_count": 27,
   "outputs": [],
   "source": [
    "import os\n",
    "import SimpleITK as sitk\n",
    "\n",
    "from radiomics import getTestCase\n",
    "\n",
    "imagepath_1, labelpath_1 = getTestCase('brain1')\n",
    "imagepath_2, labelpath_2 = getTestCase('brain2')\n",
    "\n",
    "image_1 = sitk.ReadImage(imagepath_1)\n",
    "label_1 = sitk.ReadImage(labelpath_1)\n",
    "image_2 = sitk.ReadImage(imagepath_2)\n",
    "label_2 = sitk.ReadImage(labelpath_2)\n"
   ],
   "metadata": {
    "collapsed": false,
    "ExecuteTime": {
     "start_time": "2023-06-20T23:06:18.848164Z",
     "end_time": "2023-06-20T23:09:20.345473Z"
    }
   }
  },
  {
   "cell_type": "code",
   "execution_count": 12,
   "outputs": [
    {
     "data": {
      "text/plain": "<Figure size 2000x2000 with 4 Axes>"
     },
     "metadata": {},
     "output_type": "display_data"
    }
   ],
   "source": [
    "%matplotlib inline\n",
    "import matplotlib.pyplot as plt\n",
    "\n",
    "plt.figure(figsize=(20,20))\n",
    "plt.subplot(2,2,1)\n",
    "plt.imshow(sitk.GetArrayFromImage(image_1)[12,:,:], cmap=\"gray\")\n",
    "plt.title(\"Brain #1\")\n",
    "plt.subplot(2,2,2)\n",
    "plt.imshow(sitk.GetArrayFromImage(image_1)[12,:,:])\n",
    "plt.title(\"Segmentation #1\")\n",
    "\n",
    "plt.subplot(2,2,3)\n",
    "plt.imshow(sitk.GetArrayFromImage(image_2)[8,:,:], cmap=\"gray\")\n",
    "plt.title(\"Brain #2\")\n",
    "plt.subplot(2,2,4)\n",
    "plt.imshow(sitk.GetArrayFromImage(image_2)[8,:,:])\n",
    "plt.title(\"Segmentation #2\")\n",
    "\n",
    "plt.show()"
   ],
   "metadata": {
    "collapsed": false,
    "ExecuteTime": {
     "start_time": "2023-06-20T23:02:12.472524Z",
     "end_time": "2023-06-20T23:02:12.741748Z"
    }
   }
  },
  {
   "cell_type": "code",
   "execution_count": 13,
   "outputs": [
    {
     "name": "stderr",
     "output_type": "stream",
     "text": [
      "INFO:radiomics.featureextractor:Loading parameter file C:\\Users\\steve\\OneDrive - University of Adelaide\\Python Scripts\\MRI_sarcoma_AI\\example_settings\\Params.yaml\n",
      "INFO:radiomics.featureextractor:Calculating features with label: 1\n",
      "INFO:radiomics.featureextractor:Loading image and mask\n",
      "INFO:radiomics.featureextractor:Computing shape\n",
      "INFO:radiomics.featureextractor:Adding image type \"Original\" with custom settings: {}\n",
      "INFO:radiomics.featureextractor:Calculating features for original image\n",
      "INFO:radiomics.featureextractor:Computing firstorder\n",
      "INFO:radiomics.featureextractor:Computing glcm\n",
      "INFO:radiomics.featureextractor:Computing glrlm\n",
      "INFO:radiomics.featureextractor:Computing glszm\n",
      "INFO:radiomics.featureextractor:Computing gldm\n",
      "INFO:radiomics.featureextractor:Calculating features with label: 1\n",
      "INFO:radiomics.featureextractor:Loading image and mask\n",
      "INFO:radiomics.featureextractor:Computing shape\n",
      "INFO:radiomics.featureextractor:Adding image type \"Original\" with custom settings: {}\n",
      "INFO:radiomics.featureextractor:Calculating features for original image\n",
      "INFO:radiomics.featureextractor:Computing firstorder\n",
      "INFO:radiomics.featureextractor:Computing glcm\n",
      "INFO:radiomics.featureextractor:Computing glrlm\n",
      "INFO:radiomics.featureextractor:Computing glszm\n",
      "INFO:radiomics.featureextractor:Computing gldm\n"
     ]
    }
   ],
   "source": [
    "import os\n",
    "\n",
    "params = os.path.join(os.getcwd(), 'example_settings', 'Params.yaml')\n",
    "\n",
    "extractor = featureextractor.RadiomicsFeatureExtractor(params)\n",
    "result_1 = extractor.execute(image_1, label_1)\n",
    "result_2 = extractor.execute(image_2, label_2)"
   ],
   "metadata": {
    "collapsed": false,
    "ExecuteTime": {
     "start_time": "2023-06-20T23:02:12.743887Z",
     "end_time": "2023-06-20T23:02:13.405095Z"
    }
   }
  },
  {
   "cell_type": "code",
   "execution_count": 14,
   "outputs": [],
   "source": [
    "feature_1 = np.array([])\n",
    "feature_2 = np.array([])\n",
    "\n",
    "for key, value in six.iteritems(result_1):\n",
    "    if key.startswith(\"original_\"):\n",
    "        feature_1 = np.append(feature_1, result_1[key])\n",
    "        feature_2 = np.append(feature_2, result_2[key])"
   ],
   "metadata": {
    "collapsed": false,
    "ExecuteTime": {
     "start_time": "2023-06-20T23:02:13.415105Z",
     "end_time": "2023-06-20T23:02:13.436834Z"
    }
   }
  },
  {
   "cell_type": "code",
   "execution_count": 15,
   "outputs": [
    {
     "data": {
      "text/plain": "<Figure size 2000x2000 with 3 Axes>"
     },
     "metadata": {},
     "output_type": "display_data"
    }
   ],
   "source": [
    "plt.figure(figsize=(20,20))\n",
    "plt.subplot(3,1,1)\n",
    "plt.plot(feature_1)\n",
    "plt.yscale('log')\n",
    "plt.title('Features from brain #1')\n",
    "\n",
    "plt.subplot(3,1,2)\n",
    "plt.plot(feature_2)\n",
    "plt.yscale('log')\n",
    "plt.title(\"features from brain #2\")\n",
    "\n",
    "plt.subplot(3,1,3)\n",
    "plt.plot(feature_1 - feature_2)\n",
    "plt.yscale('log')\n",
    "plt.title(\"Difference\")\n",
    "\n",
    "plt.show()"
   ],
   "metadata": {
    "collapsed": false,
    "ExecuteTime": {
     "start_time": "2023-06-20T23:02:13.446843Z",
     "end_time": "2023-06-20T23:02:13.564237Z"
    }
   }
  },
  {
   "cell_type": "code",
   "execution_count": 22,
   "outputs": [
    {
     "data": {
      "text/plain": "<Figure size 2000x2000 with 1 Axes>"
     },
     "metadata": {},
     "output_type": "display_data"
    }
   ],
   "source": [
    "# test opening nii images\n",
    "import SimpleITK as sitk\n",
    "import matplotlib.pyplot as plt\n",
    "%matplotlib inline\n",
    "\n",
    "image_1 = sitk.ReadImage('./data/STS_001/image.nii.gz')\n",
    "plt.figure(figsize=(20,20))\n",
    "plt.subplot(1,1,1)\n",
    "plt.imshow(sitk.GetArrayFromImage(image_1)[12,:,:], cmap=\"gray\")\n",
    "plt.show()"
   ],
   "metadata": {
    "collapsed": false,
    "ExecuteTime": {
     "start_time": "2023-06-20T23:03:50.497570Z",
     "end_time": "2023-06-20T23:03:50.622846Z"
    }
   }
  },
  {
   "cell_type": "code",
   "execution_count": 1,
   "outputs": [
    {
     "name": "stdout",
     "output_type": "stream",
     "text": [
      "\u001B[1m\n",
      "Please cite:\u001B[0m\n",
      "Thomas Phil, Thomas Albrecht, Skylar Gay, & Mathis Ersted Rasmussen. (2023). Sikerdebaard/dcmrtstruct2nii: dcmrtstruct2nii v5 (Version v5). Zenodo. https://doi.org/10.5281/zenodo.4037864\n",
      "\u001B[0m\n"
     ]
    },
    {
     "data": {
      "text/plain": "<SimpleITK.SimpleITK.Image; proxy of <Swig Object of type 'std::vector< itk::simple::Image >::value_type *' at 0x000001AADD7142D0> >"
     },
     "execution_count": 1,
     "metadata": {},
     "output_type": "execute_result"
    }
   ],
   "source": [
    "from dcmrtstruct2nii import dcmrtstruct2nii\n",
    "import SimpleITK as sitk\n",
    "\n",
    "reader = sitk.ImageSeriesReader()\n",
    "# test_path = './test'\n",
    "test_path = 'example_data/manifest-MjbMt99Q1553106146386120388/Soft-tissue-Sarcoma/STS_049/04-14-2002-NA-MRI-UNLISTED AREA-15202/9.000000-Axial FSET2 Fatsat LOWER TIB FIB - RESEARCH-91655'\n",
    "# test_path = \"C:/Users/steve/OneDrive - University of Adelaide/Python Scripts/MRI_sarcoma_AI/example_data/manifest-MjbMt99Q1553106146386120388/Soft-tissue-Sarcoma/STS_049/04-14-2002-NA-MRI-UNLISTED AREA-15202/9.000000-Axial FSET2 Fatsat LOWER TIB FIB - RESEARCH-30537\"\n",
    "#\n",
    "# struct_path=\"./example_data/manifest-MjbMt99Q1553106146386120388/Soft-tissue-Sarcoma/STS_049/04-14-2002-NA-MRI-UNLISTED AREA-15202/1.000000-RTstructT2FS-36171/1-1.dcm\"\n",
    "#\n",
    "# dcmrtstruct2nii(struct_path, test_path, './data1')\n",
    "dicom_names = reader.GetGDCMSeriesFileNames(test_path)\n",
    "\n",
    "reader.SetFileNames(dicom_names)\n",
    "\n",
    "reader.Execute()"
   ],
   "metadata": {
    "collapsed": false,
    "ExecuteTime": {
     "start_time": "2023-06-22T17:52:07.739841Z",
     "end_time": "2023-06-22T17:52:08.621207Z"
    }
   }
  },
  {
   "cell_type": "code",
   "execution_count": 24,
   "outputs": [
    {
     "data": {
      "text/plain": "True"
     },
     "execution_count": 24,
     "metadata": {},
     "output_type": "execute_result"
    }
   ],
   "source": [
    "import os\n",
    "os.path.exists('example_data/manifest-MjbMt99Q1553106146386120388/Soft-tissue-Sarcoma/STS_049/04-14-2002-NA-MRI-UNLISTED AREA-15202/9.000000-Axial FSET2 Fatsat LOWER TIB FIB - RESEARCH-30537')"
   ],
   "metadata": {
    "collapsed": false,
    "ExecuteTime": {
     "start_time": "2023-06-22T15:18:11.851917Z",
     "end_time": "2023-06-22T15:18:11.863957Z"
    }
   }
  },
  {
   "cell_type": "code",
   "execution_count": 3,
   "outputs": [
    {
     "name": "stderr",
     "output_type": "stream",
     "text": [
      "100%|██████████| 51/51 [02:20<00:00,  2.75s/it]\n"
     ]
    }
   ],
   "source": [
    "from src.dataset import convert_wiki2nii\n",
    "\n",
    "convert_wiki2nii(\"example_data/manifest-MjbMt99Q1553106146386120388/t2stirmetadata.csv\",\n",
    "                 \"./example_data/manifest-MjbMt99Q1553106146386120388/\",\n",
    "                 \"./data/\")"
   ],
   "metadata": {
    "collapsed": false,
    "ExecuteTime": {
     "start_time": "2023-06-22T18:14:53.133765Z",
     "end_time": "2023-06-22T18:17:13.367446Z"
    }
   }
  },
  {
   "cell_type": "markdown",
   "source": [],
   "metadata": {
    "collapsed": false
   }
  },
  {
   "cell_type": "code",
   "execution_count": 28,
   "outputs": [
    {
     "name": "stderr",
     "output_type": "stream",
     "text": [
      "INFO:radiomics.featureextractor:Loading parameter file C:\\Users\\steve\\OneDrive - University of Adelaide\\Python Scripts\\MRI_sarcoma_AI\\example_settings\\Params.yaml\n",
      "INFO:radiomics.featureextractor:Calculating features with label: 255\n",
      "INFO:radiomics.featureextractor:Loading image and mask\n",
      "INFO:radiomics.featureextractor:Computing shape\n",
      "INFO:radiomics.featureextractor:Adding image type \"Original\" with custom settings: {}\n",
      "INFO:radiomics.featureextractor:Calculating features for original image\n",
      "INFO:radiomics.featureextractor:Computing firstorder\n",
      "INFO:radiomics.featureextractor:Computing glcm\n",
      "INFO:radiomics.featureextractor:Computing glrlm\n",
      "INFO:radiomics.featureextractor:Computing glszm\n",
      "INFO:radiomics.featureextractor:Computing gldm\n"
     ]
    }
   ],
   "source": [
    "import SimpleITK as sitk\n",
    "from radiomics import featureextractor\n",
    "\n",
    "import os\n",
    "\n",
    "params = os.path.join(os.getcwd(), 'example_settings', 'Params.yaml')\n",
    "\n",
    "label = sitk.ReadImage(\"data/STS_001/mask_GTV_Edema.nii.gz\")\n",
    "image = sitk.ReadImage(\"data/STS_001/image.nii.gz\")\n",
    "\n",
    "extractor = featureextractor.RadiomicsFeatureExtractor(params)\n",
    "result = extractor.execute(image, label, 255)"
   ],
   "metadata": {
    "collapsed": false,
    "ExecuteTime": {
     "start_time": "2023-06-20T23:13:45.026362Z",
     "end_time": "2023-06-20T23:13:53.430237Z"
    }
   }
  },
  {
   "cell_type": "code",
   "execution_count": 35,
   "outputs": [
    {
     "name": "stdout",
     "output_type": "stream",
     "text": [
      "[  0 255]\n"
     ]
    }
   ],
   "source": [
    "print(np.unique(sitk.GetArrayFromImage(label)))"
   ],
   "metadata": {
    "collapsed": false,
    "ExecuteTime": {
     "start_time": "2023-06-20T23:20:43.845873Z",
     "end_time": "2023-06-20T23:20:43.958586Z"
    }
   }
  },
  {
   "cell_type": "code",
   "execution_count": 5,
   "outputs": [
    {
     "data": {
      "text/plain": "         ID            image_path             segmentation_path\n0   STS_001  STS_001\\image.nii.gz  STS_001\\mask_GTV_Mass.nii.gz\n1   STS_002  STS_002\\image.nii.gz  STS_002\\mask_GTV_Mass.nii.gz\n2   STS_003  STS_003\\image.nii.gz  STS_003\\mask_GTV_Mass.nii.gz\n3   STS_004  STS_004\\image.nii.gz  STS_004\\mask_GTV_Mass.nii.gz\n4   STS_005  STS_005\\image.nii.gz  STS_005\\mask_GTV_Mass.nii.gz\n5   STS_006  STS_006\\image.nii.gz  STS_006\\mask_GTV_Mass.nii.gz\n6   STS_007  STS_007\\image.nii.gz  STS_007\\mask_GTV_Mass.nii.gz\n7   STS_008  STS_008\\image.nii.gz  STS_008\\mask_GTV_Mass.nii.gz\n8   STS_009  STS_009\\image.nii.gz  STS_009\\mask_GTV_Mass.nii.gz\n9   STS_010  STS_010\\image.nii.gz  STS_010\\mask_GTV_Mass.nii.gz\n10  STS_011  STS_011\\image.nii.gz  STS_011\\mask_GTV_Mass.nii.gz\n11  STS_012  STS_012\\image.nii.gz  STS_012\\mask_GTV_Mass.nii.gz\n12  STS_013  STS_013\\image.nii.gz  STS_013\\mask_GTV_Mass.nii.gz\n13  STS_014  STS_014\\image.nii.gz  STS_014\\mask_GTV_Mass.nii.gz\n14  STS_015  STS_015\\image.nii.gz  STS_015\\mask_GTV_Mass.nii.gz\n15  STS_016  STS_016\\image.nii.gz  STS_016\\mask_GTV_Mass.nii.gz\n16  STS_017  STS_017\\image.nii.gz  STS_017\\mask_GTV_Mass.nii.gz\n17  STS_018  STS_018\\image.nii.gz  STS_018\\mask_GTV_Mass.nii.gz\n18  STS_019  STS_019\\image.nii.gz  STS_019\\mask_GTV_Mass.nii.gz\n19  STS_020  STS_020\\image.nii.gz  STS_020\\mask_GTV_Mass.nii.gz\n20  STS_021  STS_021\\image.nii.gz  STS_021\\mask_GTV_Mass.nii.gz\n21  STS_022  STS_022\\image.nii.gz  STS_022\\mask_GTV_Mass.nii.gz\n22  STS_023  STS_023\\image.nii.gz  STS_023\\mask_GTV_Mass.nii.gz\n23  STS_024  STS_024\\image.nii.gz  STS_024\\mask_GTV_Mass.nii.gz\n24  STS_025  STS_025\\image.nii.gz  STS_025\\mask_GTV_Mass.nii.gz\n25  STS_026  STS_026\\image.nii.gz  STS_026\\mask_GTV_Mass.nii.gz\n26  STS_027  STS_027\\image.nii.gz  STS_027\\mask_GTV_Mass.nii.gz\n27  STS_028  STS_028\\image.nii.gz  STS_028\\mask_GTV_Mass.nii.gz\n28  STS_029  STS_029\\image.nii.gz  STS_029\\mask_GTV_Mass.nii.gz\n29  STS_030  STS_030\\image.nii.gz  STS_030\\mask_GTV_Mass.nii.gz\n30  STS_031  STS_031\\image.nii.gz  STS_031\\mask_GTV_Mass.nii.gz\n31  STS_032  STS_032\\image.nii.gz  STS_032\\mask_GTV_Mass.nii.gz\n32  STS_033  STS_033\\image.nii.gz  STS_033\\mask_GTV_Mass.nii.gz\n33  STS_034  STS_034\\image.nii.gz  STS_034\\mask_GTV_Mass.nii.gz\n34  STS_035  STS_035\\image.nii.gz  STS_035\\mask_GTV_Mass.nii.gz\n35  STS_036  STS_036\\image.nii.gz  STS_036\\mask_GTV_Mass.nii.gz\n36  STS_037  STS_037\\image.nii.gz  STS_037\\mask_GTV_Mass.nii.gz\n37  STS_038  STS_038\\image.nii.gz  STS_038\\mask_GTV_Mass.nii.gz\n38  STS_039  STS_039\\image.nii.gz  STS_039\\mask_GTV_Mass.nii.gz\n39  STS_040  STS_040\\image.nii.gz  STS_040\\mask_GTV_Mass.nii.gz\n40  STS_041  STS_041\\image.nii.gz  STS_041\\mask_GTV_Mass.nii.gz\n41  STS_042  STS_042\\image.nii.gz  STS_042\\mask_GTV_Mass.nii.gz\n42  STS_043  STS_043\\image.nii.gz  STS_043\\mask_GTV_Mass.nii.gz\n43  STS_044  STS_044\\image.nii.gz  STS_044\\mask_GTV_Mass.nii.gz\n44  STS_045  STS_045\\image.nii.gz  STS_045\\mask_GTV_Mass.nii.gz\n45  STS_046  STS_046\\image.nii.gz  STS_046\\mask_GTV_Mass.nii.gz\n46  STS_047  STS_047\\image.nii.gz  STS_047\\mask_GTV_Mass.nii.gz\n47  STS_048  STS_048\\image.nii.gz  STS_048\\mask_GTV_Mass.nii.gz\n48  STS_049  STS_049\\image.nii.gz  STS_049\\mask_GTV_Mass.nii.gz\n49  STS_050  STS_050\\image.nii.gz  STS_050\\mask_GTV_Mass.nii.gz\n50  STS_051  STS_051\\image.nii.gz  STS_051\\mask_GTV_Mass.nii.gz",
      "text/html": "<div>\n<style scoped>\n    .dataframe tbody tr th:only-of-type {\n        vertical-align: middle;\n    }\n\n    .dataframe tbody tr th {\n        vertical-align: top;\n    }\n\n    .dataframe thead th {\n        text-align: right;\n    }\n</style>\n<table border=\"1\" class=\"dataframe\">\n  <thead>\n    <tr style=\"text-align: right;\">\n      <th></th>\n      <th>ID</th>\n      <th>image_path</th>\n      <th>segmentation_path</th>\n    </tr>\n  </thead>\n  <tbody>\n    <tr>\n      <th>0</th>\n      <td>STS_001</td>\n      <td>STS_001\\image.nii.gz</td>\n      <td>STS_001\\mask_GTV_Mass.nii.gz</td>\n    </tr>\n    <tr>\n      <th>1</th>\n      <td>STS_002</td>\n      <td>STS_002\\image.nii.gz</td>\n      <td>STS_002\\mask_GTV_Mass.nii.gz</td>\n    </tr>\n    <tr>\n      <th>2</th>\n      <td>STS_003</td>\n      <td>STS_003\\image.nii.gz</td>\n      <td>STS_003\\mask_GTV_Mass.nii.gz</td>\n    </tr>\n    <tr>\n      <th>3</th>\n      <td>STS_004</td>\n      <td>STS_004\\image.nii.gz</td>\n      <td>STS_004\\mask_GTV_Mass.nii.gz</td>\n    </tr>\n    <tr>\n      <th>4</th>\n      <td>STS_005</td>\n      <td>STS_005\\image.nii.gz</td>\n      <td>STS_005\\mask_GTV_Mass.nii.gz</td>\n    </tr>\n    <tr>\n      <th>5</th>\n      <td>STS_006</td>\n      <td>STS_006\\image.nii.gz</td>\n      <td>STS_006\\mask_GTV_Mass.nii.gz</td>\n    </tr>\n    <tr>\n      <th>6</th>\n      <td>STS_007</td>\n      <td>STS_007\\image.nii.gz</td>\n      <td>STS_007\\mask_GTV_Mass.nii.gz</td>\n    </tr>\n    <tr>\n      <th>7</th>\n      <td>STS_008</td>\n      <td>STS_008\\image.nii.gz</td>\n      <td>STS_008\\mask_GTV_Mass.nii.gz</td>\n    </tr>\n    <tr>\n      <th>8</th>\n      <td>STS_009</td>\n      <td>STS_009\\image.nii.gz</td>\n      <td>STS_009\\mask_GTV_Mass.nii.gz</td>\n    </tr>\n    <tr>\n      <th>9</th>\n      <td>STS_010</td>\n      <td>STS_010\\image.nii.gz</td>\n      <td>STS_010\\mask_GTV_Mass.nii.gz</td>\n    </tr>\n    <tr>\n      <th>10</th>\n      <td>STS_011</td>\n      <td>STS_011\\image.nii.gz</td>\n      <td>STS_011\\mask_GTV_Mass.nii.gz</td>\n    </tr>\n    <tr>\n      <th>11</th>\n      <td>STS_012</td>\n      <td>STS_012\\image.nii.gz</td>\n      <td>STS_012\\mask_GTV_Mass.nii.gz</td>\n    </tr>\n    <tr>\n      <th>12</th>\n      <td>STS_013</td>\n      <td>STS_013\\image.nii.gz</td>\n      <td>STS_013\\mask_GTV_Mass.nii.gz</td>\n    </tr>\n    <tr>\n      <th>13</th>\n      <td>STS_014</td>\n      <td>STS_014\\image.nii.gz</td>\n      <td>STS_014\\mask_GTV_Mass.nii.gz</td>\n    </tr>\n    <tr>\n      <th>14</th>\n      <td>STS_015</td>\n      <td>STS_015\\image.nii.gz</td>\n      <td>STS_015\\mask_GTV_Mass.nii.gz</td>\n    </tr>\n    <tr>\n      <th>15</th>\n      <td>STS_016</td>\n      <td>STS_016\\image.nii.gz</td>\n      <td>STS_016\\mask_GTV_Mass.nii.gz</td>\n    </tr>\n    <tr>\n      <th>16</th>\n      <td>STS_017</td>\n      <td>STS_017\\image.nii.gz</td>\n      <td>STS_017\\mask_GTV_Mass.nii.gz</td>\n    </tr>\n    <tr>\n      <th>17</th>\n      <td>STS_018</td>\n      <td>STS_018\\image.nii.gz</td>\n      <td>STS_018\\mask_GTV_Mass.nii.gz</td>\n    </tr>\n    <tr>\n      <th>18</th>\n      <td>STS_019</td>\n      <td>STS_019\\image.nii.gz</td>\n      <td>STS_019\\mask_GTV_Mass.nii.gz</td>\n    </tr>\n    <tr>\n      <th>19</th>\n      <td>STS_020</td>\n      <td>STS_020\\image.nii.gz</td>\n      <td>STS_020\\mask_GTV_Mass.nii.gz</td>\n    </tr>\n    <tr>\n      <th>20</th>\n      <td>STS_021</td>\n      <td>STS_021\\image.nii.gz</td>\n      <td>STS_021\\mask_GTV_Mass.nii.gz</td>\n    </tr>\n    <tr>\n      <th>21</th>\n      <td>STS_022</td>\n      <td>STS_022\\image.nii.gz</td>\n      <td>STS_022\\mask_GTV_Mass.nii.gz</td>\n    </tr>\n    <tr>\n      <th>22</th>\n      <td>STS_023</td>\n      <td>STS_023\\image.nii.gz</td>\n      <td>STS_023\\mask_GTV_Mass.nii.gz</td>\n    </tr>\n    <tr>\n      <th>23</th>\n      <td>STS_024</td>\n      <td>STS_024\\image.nii.gz</td>\n      <td>STS_024\\mask_GTV_Mass.nii.gz</td>\n    </tr>\n    <tr>\n      <th>24</th>\n      <td>STS_025</td>\n      <td>STS_025\\image.nii.gz</td>\n      <td>STS_025\\mask_GTV_Mass.nii.gz</td>\n    </tr>\n    <tr>\n      <th>25</th>\n      <td>STS_026</td>\n      <td>STS_026\\image.nii.gz</td>\n      <td>STS_026\\mask_GTV_Mass.nii.gz</td>\n    </tr>\n    <tr>\n      <th>26</th>\n      <td>STS_027</td>\n      <td>STS_027\\image.nii.gz</td>\n      <td>STS_027\\mask_GTV_Mass.nii.gz</td>\n    </tr>\n    <tr>\n      <th>27</th>\n      <td>STS_028</td>\n      <td>STS_028\\image.nii.gz</td>\n      <td>STS_028\\mask_GTV_Mass.nii.gz</td>\n    </tr>\n    <tr>\n      <th>28</th>\n      <td>STS_029</td>\n      <td>STS_029\\image.nii.gz</td>\n      <td>STS_029\\mask_GTV_Mass.nii.gz</td>\n    </tr>\n    <tr>\n      <th>29</th>\n      <td>STS_030</td>\n      <td>STS_030\\image.nii.gz</td>\n      <td>STS_030\\mask_GTV_Mass.nii.gz</td>\n    </tr>\n    <tr>\n      <th>30</th>\n      <td>STS_031</td>\n      <td>STS_031\\image.nii.gz</td>\n      <td>STS_031\\mask_GTV_Mass.nii.gz</td>\n    </tr>\n    <tr>\n      <th>31</th>\n      <td>STS_032</td>\n      <td>STS_032\\image.nii.gz</td>\n      <td>STS_032\\mask_GTV_Mass.nii.gz</td>\n    </tr>\n    <tr>\n      <th>32</th>\n      <td>STS_033</td>\n      <td>STS_033\\image.nii.gz</td>\n      <td>STS_033\\mask_GTV_Mass.nii.gz</td>\n    </tr>\n    <tr>\n      <th>33</th>\n      <td>STS_034</td>\n      <td>STS_034\\image.nii.gz</td>\n      <td>STS_034\\mask_GTV_Mass.nii.gz</td>\n    </tr>\n    <tr>\n      <th>34</th>\n      <td>STS_035</td>\n      <td>STS_035\\image.nii.gz</td>\n      <td>STS_035\\mask_GTV_Mass.nii.gz</td>\n    </tr>\n    <tr>\n      <th>35</th>\n      <td>STS_036</td>\n      <td>STS_036\\image.nii.gz</td>\n      <td>STS_036\\mask_GTV_Mass.nii.gz</td>\n    </tr>\n    <tr>\n      <th>36</th>\n      <td>STS_037</td>\n      <td>STS_037\\image.nii.gz</td>\n      <td>STS_037\\mask_GTV_Mass.nii.gz</td>\n    </tr>\n    <tr>\n      <th>37</th>\n      <td>STS_038</td>\n      <td>STS_038\\image.nii.gz</td>\n      <td>STS_038\\mask_GTV_Mass.nii.gz</td>\n    </tr>\n    <tr>\n      <th>38</th>\n      <td>STS_039</td>\n      <td>STS_039\\image.nii.gz</td>\n      <td>STS_039\\mask_GTV_Mass.nii.gz</td>\n    </tr>\n    <tr>\n      <th>39</th>\n      <td>STS_040</td>\n      <td>STS_040\\image.nii.gz</td>\n      <td>STS_040\\mask_GTV_Mass.nii.gz</td>\n    </tr>\n    <tr>\n      <th>40</th>\n      <td>STS_041</td>\n      <td>STS_041\\image.nii.gz</td>\n      <td>STS_041\\mask_GTV_Mass.nii.gz</td>\n    </tr>\n    <tr>\n      <th>41</th>\n      <td>STS_042</td>\n      <td>STS_042\\image.nii.gz</td>\n      <td>STS_042\\mask_GTV_Mass.nii.gz</td>\n    </tr>\n    <tr>\n      <th>42</th>\n      <td>STS_043</td>\n      <td>STS_043\\image.nii.gz</td>\n      <td>STS_043\\mask_GTV_Mass.nii.gz</td>\n    </tr>\n    <tr>\n      <th>43</th>\n      <td>STS_044</td>\n      <td>STS_044\\image.nii.gz</td>\n      <td>STS_044\\mask_GTV_Mass.nii.gz</td>\n    </tr>\n    <tr>\n      <th>44</th>\n      <td>STS_045</td>\n      <td>STS_045\\image.nii.gz</td>\n      <td>STS_045\\mask_GTV_Mass.nii.gz</td>\n    </tr>\n    <tr>\n      <th>45</th>\n      <td>STS_046</td>\n      <td>STS_046\\image.nii.gz</td>\n      <td>STS_046\\mask_GTV_Mass.nii.gz</td>\n    </tr>\n    <tr>\n      <th>46</th>\n      <td>STS_047</td>\n      <td>STS_047\\image.nii.gz</td>\n      <td>STS_047\\mask_GTV_Mass.nii.gz</td>\n    </tr>\n    <tr>\n      <th>47</th>\n      <td>STS_048</td>\n      <td>STS_048\\image.nii.gz</td>\n      <td>STS_048\\mask_GTV_Mass.nii.gz</td>\n    </tr>\n    <tr>\n      <th>48</th>\n      <td>STS_049</td>\n      <td>STS_049\\image.nii.gz</td>\n      <td>STS_049\\mask_GTV_Mass.nii.gz</td>\n    </tr>\n    <tr>\n      <th>49</th>\n      <td>STS_050</td>\n      <td>STS_050\\image.nii.gz</td>\n      <td>STS_050\\mask_GTV_Mass.nii.gz</td>\n    </tr>\n    <tr>\n      <th>50</th>\n      <td>STS_051</td>\n      <td>STS_051\\image.nii.gz</td>\n      <td>STS_051\\mask_GTV_Mass.nii.gz</td>\n    </tr>\n  </tbody>\n</table>\n</div>"
     },
     "execution_count": 5,
     "metadata": {},
     "output_type": "execute_result"
    }
   ],
   "source": [
    "from autorad.utils.preprocessing import get_paths_with_separate_folder_per_case\n",
    "root_dir = './data'\n",
    "\n",
    "paths_df = get_paths_with_separate_folder_per_case(root_dir, relative=True, image_stem='image', mask_stem='mask_GTV_Mass')\n",
    "\n",
    "paths_df"
   ],
   "metadata": {
    "collapsed": false,
    "ExecuteTime": {
     "start_time": "2023-06-25T20:46:11.339513Z",
     "end_time": "2023-06-25T20:46:11.376113Z"
    }
   }
  },
  {
   "cell_type": "code",
   "execution_count": 4,
   "outputs": [
    {
     "ename": "ValueError",
     "evalue": "attempt to get argmax of an empty sequence",
     "output_type": "error",
     "traceback": [
      "\u001B[1;31m---------------------------------------------------------------------------\u001B[0m",
      "\u001B[1;31mValueError\u001B[0m                                Traceback (most recent call last)",
      "Cell \u001B[1;32mIn[4], line 12\u001B[0m\n\u001B[0;32m      4\u001B[0m logging\u001B[38;5;241m.\u001B[39mgetLogger()\u001B[38;5;241m.\u001B[39msetLevel(logging\u001B[38;5;241m.\u001B[39mERROR)\n\u001B[0;32m      6\u001B[0m image_dataset \u001B[38;5;241m=\u001B[39m ImageDataset(\n\u001B[0;32m      7\u001B[0m     paths_df,\n\u001B[0;32m      8\u001B[0m     ID_colname\u001B[38;5;241m=\u001B[39m\u001B[38;5;124m'\u001B[39m\u001B[38;5;124mID\u001B[39m\u001B[38;5;124m'\u001B[39m,\n\u001B[0;32m      9\u001B[0m     root_dir\u001B[38;5;241m=\u001B[39mroot_dir\n\u001B[0;32m     10\u001B[0m )\n\u001B[1;32m---> 12\u001B[0m \u001B[43mimage_dataset\u001B[49m\u001B[38;5;241;43m.\u001B[39;49m\u001B[43mplot_examples\u001B[49m\u001B[43m(\u001B[49m\u001B[43mn\u001B[49m\u001B[38;5;241;43m=\u001B[39;49m\u001B[38;5;241;43m5\u001B[39;49m\u001B[43m,\u001B[49m\u001B[43m \u001B[49m\u001B[43mwindow\u001B[49m\u001B[38;5;241;43m=\u001B[39;49m\u001B[38;5;28;43;01mNone\u001B[39;49;00m\u001B[43m)\u001B[49m\n",
      "File \u001B[1;32m~\\anaconda3\\envs\\mri_sarcoma_ai2\\lib\\site-packages\\autorad\\data\\dataset.py:477\u001B[0m, in \u001B[0;36mImageDataset.plot_examples\u001B[1;34m(self, n, window)\u001B[0m\n\u001B[0;32m    475\u001B[0m case \u001B[38;5;241m=\u001B[39m df_to_plot\u001B[38;5;241m.\u001B[39miloc[i]\n\u001B[0;32m    476\u001B[0m ax \u001B[38;5;241m=\u001B[39m axs\u001B[38;5;241m.\u001B[39mflat[i]\n\u001B[1;32m--> 477\u001B[0m vols \u001B[38;5;241m=\u001B[39m \u001B[43mplot_volumes\u001B[49m\u001B[38;5;241;43m.\u001B[39;49m\u001B[43mBaseVolumes\u001B[49m\u001B[38;5;241;43m.\u001B[39;49m\u001B[43mfrom_nifti\u001B[49m\u001B[43m(\u001B[49m\n\u001B[0;32m    478\u001B[0m \u001B[43m    \u001B[49m\u001B[38;5;28;43;01mcase\u001B[39;49;00m\u001B[43m[\u001B[49m\u001B[38;5;28;43mself\u001B[39;49m\u001B[38;5;241;43m.\u001B[39;49m\u001B[43mimage_colname\u001B[49m\u001B[43m]\u001B[49m\u001B[43m,\u001B[49m\n\u001B[0;32m    479\u001B[0m \u001B[43m    \u001B[49m\u001B[38;5;28;43;01mcase\u001B[39;49;00m\u001B[43m[\u001B[49m\u001B[38;5;28;43mself\u001B[39;49m\u001B[38;5;241;43m.\u001B[39;49m\u001B[43mmask_colname\u001B[49m\u001B[43m]\u001B[49m\u001B[43m,\u001B[49m\n\u001B[0;32m    480\u001B[0m \u001B[43m    \u001B[49m\u001B[43mwindow\u001B[49m\u001B[38;5;241;43m=\u001B[39;49m\u001B[43mwindow\u001B[49m\u001B[43m,\u001B[49m\n\u001B[0;32m    481\u001B[0m \u001B[43m\u001B[49m\u001B[43m)\u001B[49m\n\u001B[0;32m    482\u001B[0m image_2D, mask_2D \u001B[38;5;241m=\u001B[39m vols\u001B[38;5;241m.\u001B[39mget_slices()\n\u001B[0;32m    483\u001B[0m single_plot \u001B[38;5;241m=\u001B[39m plot_volumes\u001B[38;5;241m.\u001B[39moverlay_mask_contour(image_2D, mask_2D)\n",
      "File \u001B[1;32m~\\anaconda3\\envs\\mri_sarcoma_ai2\\lib\\site-packages\\autorad\\visualization\\plot_volumes.py:286\u001B[0m, in \u001B[0;36mBaseVolumes.from_nifti\u001B[1;34m(cls, image_path, mask_path, resample, *args, **kwargs)\u001B[0m\n\u001B[0;32m    283\u001B[0m     mask \u001B[38;5;241m=\u001B[39m io\u001B[38;5;241m.\u001B[39mload_array(mask_path)\n\u001B[0;32m    284\u001B[0m image \u001B[38;5;241m=\u001B[39m io\u001B[38;5;241m.\u001B[39mload_array(image_path)\n\u001B[1;32m--> 286\u001B[0m \u001B[38;5;28;01mreturn\u001B[39;00m \u001B[38;5;28mcls\u001B[39m(image, mask, \u001B[38;5;241m*\u001B[39margs, \u001B[38;5;241m*\u001B[39m\u001B[38;5;241m*\u001B[39mkwargs)\n",
      "File \u001B[1;32m~\\anaconda3\\envs\\mri_sarcoma_ai2\\lib\\site-packages\\autorad\\visualization\\plot_volumes.py:245\u001B[0m, in \u001B[0;36mBaseVolumes.__init__\u001B[1;34m(self, image, mask, label, constant_bbox, window, axis)\u001B[0m\n\u001B[0;32m    243\u001B[0m \u001B[38;5;28mself\u001B[39m\u001B[38;5;241m.\u001B[39mmask \u001B[38;5;241m=\u001B[39m mask \u001B[38;5;241m==\u001B[39m label\n\u001B[0;32m    244\u001B[0m \u001B[38;5;28mself\u001B[39m\u001B[38;5;241m.\u001B[39maxis \u001B[38;5;241m=\u001B[39m axis\n\u001B[1;32m--> 245\u001B[0m \u001B[38;5;28mself\u001B[39m\u001B[38;5;241m.\u001B[39mpreprocessor \u001B[38;5;241m=\u001B[39m \u001B[38;5;28;43mself\u001B[39;49m\u001B[38;5;241;43m.\u001B[39;49m\u001B[43minit_and_fit_preprocessor\u001B[49m\u001B[43m(\u001B[49m\u001B[43mconstant_bbox\u001B[49m\u001B[43m)\u001B[49m\n",
      "File \u001B[1;32m~\\anaconda3\\envs\\mri_sarcoma_ai2\\lib\\site-packages\\autorad\\visualization\\plot_volumes.py:254\u001B[0m, in \u001B[0;36mBaseVolumes.init_and_fit_preprocessor\u001B[1;34m(self, constant_bbox)\u001B[0m\n\u001B[0;32m    247\u001B[0m \u001B[38;5;28;01mdef\u001B[39;00m \u001B[38;5;21minit_and_fit_preprocessor\u001B[39m(\u001B[38;5;28mself\u001B[39m, constant_bbox\u001B[38;5;241m=\u001B[39m\u001B[38;5;28;01mFalse\u001B[39;00m):\n\u001B[0;32m    248\u001B[0m     preprocessor \u001B[38;5;241m=\u001B[39m Pipeline(\n\u001B[0;32m    249\u001B[0m         [\n\u001B[0;32m    250\u001B[0m             (\u001B[38;5;124m\"\u001B[39m\u001B[38;5;124mcropper\u001B[39m\u001B[38;5;124m\"\u001B[39m, Cropper()),\n\u001B[0;32m    251\u001B[0m             (\u001B[38;5;124m\"\u001B[39m\u001B[38;5;124mslicer\u001B[39m\u001B[38;5;124m\"\u001B[39m, Slicer(axis\u001B[38;5;241m=\u001B[39m\u001B[38;5;28mself\u001B[39m\u001B[38;5;241m.\u001B[39maxis)),\n\u001B[0;32m    252\u001B[0m         ]\n\u001B[0;32m    253\u001B[0m     )\n\u001B[1;32m--> 254\u001B[0m     \u001B[43mpreprocessor\u001B[49m\u001B[38;5;241;43m.\u001B[39;49m\u001B[43mfit\u001B[49m\u001B[43m(\u001B[49m\n\u001B[0;32m    255\u001B[0m \u001B[43m        \u001B[49m\u001B[38;5;28;43mself\u001B[39;49m\u001B[38;5;241;43m.\u001B[39;49m\u001B[43mmask\u001B[49m\u001B[43m,\u001B[49m\n\u001B[0;32m    256\u001B[0m \u001B[43m        \u001B[49m\u001B[43mcropper__constant_bbox\u001B[49m\u001B[38;5;241;43m=\u001B[39;49m\u001B[43mconstant_bbox\u001B[49m\u001B[43m,\u001B[49m\n\u001B[0;32m    257\u001B[0m \u001B[43m    \u001B[49m\u001B[43m)\u001B[49m\n\u001B[0;32m    258\u001B[0m     \u001B[38;5;28;01mreturn\u001B[39;00m preprocessor\n",
      "File \u001B[1;32m~\\anaconda3\\envs\\mri_sarcoma_ai2\\lib\\site-packages\\sklearn\\pipeline.py:406\u001B[0m, in \u001B[0;36mPipeline.fit\u001B[1;34m(self, X, y, **fit_params)\u001B[0m\n\u001B[0;32m    404\u001B[0m     \u001B[38;5;28;01mif\u001B[39;00m \u001B[38;5;28mself\u001B[39m\u001B[38;5;241m.\u001B[39m_final_estimator \u001B[38;5;241m!=\u001B[39m \u001B[38;5;124m\"\u001B[39m\u001B[38;5;124mpassthrough\u001B[39m\u001B[38;5;124m\"\u001B[39m:\n\u001B[0;32m    405\u001B[0m         fit_params_last_step \u001B[38;5;241m=\u001B[39m fit_params_steps[\u001B[38;5;28mself\u001B[39m\u001B[38;5;241m.\u001B[39msteps[\u001B[38;5;241m-\u001B[39m\u001B[38;5;241m1\u001B[39m][\u001B[38;5;241m0\u001B[39m]]\n\u001B[1;32m--> 406\u001B[0m         \u001B[38;5;28mself\u001B[39m\u001B[38;5;241m.\u001B[39m_final_estimator\u001B[38;5;241m.\u001B[39mfit(Xt, y, \u001B[38;5;241m*\u001B[39m\u001B[38;5;241m*\u001B[39mfit_params_last_step)\n\u001B[0;32m    408\u001B[0m \u001B[38;5;28;01mreturn\u001B[39;00m \u001B[38;5;28mself\u001B[39m\n",
      "File \u001B[1;32m~\\anaconda3\\envs\\mri_sarcoma_ai2\\lib\\site-packages\\autorad\\visualization\\plot_volumes.py:136\u001B[0m, in \u001B[0;36mSlicer.fit\u001B[1;34m(self, X, y)\u001B[0m\n\u001B[0;32m    134\u001B[0m \u001B[38;5;28;01mdef\u001B[39;00m \u001B[38;5;21mfit\u001B[39m(\u001B[38;5;28mself\u001B[39m, X: np\u001B[38;5;241m.\u001B[39mndarray, y\u001B[38;5;241m=\u001B[39m\u001B[38;5;28;01mNone\u001B[39;00m):\n\u001B[0;32m    135\u001B[0m \u001B[38;5;250m    \u001B[39m\u001B[38;5;124;03m\"\"\"X is a binary mask\"\"\"\u001B[39;00m\n\u001B[1;32m--> 136\u001B[0m     slicenum \u001B[38;5;241m=\u001B[39m \u001B[43mspatial\u001B[49m\u001B[38;5;241;43m.\u001B[39;49m\u001B[43mget_largest_cross_section\u001B[49m\u001B[43m(\u001B[49m\u001B[43mX\u001B[49m\u001B[43m,\u001B[49m\u001B[43m \u001B[49m\u001B[43maxis\u001B[49m\u001B[38;5;241;43m=\u001B[39;49m\u001B[38;5;28;43mself\u001B[39;49m\u001B[38;5;241;43m.\u001B[39;49m\u001B[43maxis\u001B[49m\u001B[43m)\u001B[49m\n\u001B[0;32m    137\u001B[0m     \u001B[38;5;28mself\u001B[39m\u001B[38;5;241m.\u001B[39mslicenum \u001B[38;5;241m=\u001B[39m slicenum\n\u001B[0;32m    138\u001B[0m     \u001B[38;5;28;01mreturn\u001B[39;00m \u001B[38;5;28mself\u001B[39m\n",
      "File \u001B[1;32m~\\anaconda3\\envs\\mri_sarcoma_ai2\\lib\\site-packages\\autorad\\utils\\spatial.py:155\u001B[0m, in \u001B[0;36mget_largest_cross_section\u001B[1;34m(mask, axis)\u001B[0m\n\u001B[0;32m    153\u001B[0m other_axes \u001B[38;5;241m=\u001B[39m \u001B[38;5;28mtuple\u001B[39m(i \u001B[38;5;28;01mfor\u001B[39;00m i \u001B[38;5;129;01min\u001B[39;00m \u001B[38;5;28mrange\u001B[39m(ndims) \u001B[38;5;28;01mif\u001B[39;00m i \u001B[38;5;241m!=\u001B[39m axis)\n\u001B[0;32m    154\u001B[0m mask_sums \u001B[38;5;241m=\u001B[39m np\u001B[38;5;241m.\u001B[39msum(mask, axis\u001B[38;5;241m=\u001B[39mother_axes)\n\u001B[1;32m--> 155\u001B[0m max_slicenum \u001B[38;5;241m=\u001B[39m \u001B[43mnp\u001B[49m\u001B[38;5;241;43m.\u001B[39;49m\u001B[43margmax\u001B[49m\u001B[43m(\u001B[49m\u001B[43mmask_sums\u001B[49m\u001B[43m)\u001B[49m\n\u001B[0;32m    156\u001B[0m \u001B[38;5;28;01mreturn\u001B[39;00m max_slicenum\n",
      "File \u001B[1;32m<__array_function__ internals>:200\u001B[0m, in \u001B[0;36margmax\u001B[1;34m(*args, **kwargs)\u001B[0m\n",
      "File \u001B[1;32m~\\anaconda3\\envs\\mri_sarcoma_ai2\\lib\\site-packages\\numpy\\core\\fromnumeric.py:1242\u001B[0m, in \u001B[0;36margmax\u001B[1;34m(a, axis, out, keepdims)\u001B[0m\n\u001B[0;32m   1155\u001B[0m \u001B[38;5;250m\u001B[39m\u001B[38;5;124;03m\"\"\"\u001B[39;00m\n\u001B[0;32m   1156\u001B[0m \u001B[38;5;124;03mReturns the indices of the maximum values along an axis.\u001B[39;00m\n\u001B[0;32m   1157\u001B[0m \n\u001B[1;32m   (...)\u001B[0m\n\u001B[0;32m   1239\u001B[0m \u001B[38;5;124;03m(2, 1, 4)\u001B[39;00m\n\u001B[0;32m   1240\u001B[0m \u001B[38;5;124;03m\"\"\"\u001B[39;00m\n\u001B[0;32m   1241\u001B[0m kwds \u001B[38;5;241m=\u001B[39m {\u001B[38;5;124m'\u001B[39m\u001B[38;5;124mkeepdims\u001B[39m\u001B[38;5;124m'\u001B[39m: keepdims} \u001B[38;5;28;01mif\u001B[39;00m keepdims \u001B[38;5;129;01mis\u001B[39;00m \u001B[38;5;129;01mnot\u001B[39;00m np\u001B[38;5;241m.\u001B[39m_NoValue \u001B[38;5;28;01melse\u001B[39;00m {}\n\u001B[1;32m-> 1242\u001B[0m \u001B[38;5;28;01mreturn\u001B[39;00m _wrapfunc(a, \u001B[38;5;124m'\u001B[39m\u001B[38;5;124margmax\u001B[39m\u001B[38;5;124m'\u001B[39m, axis\u001B[38;5;241m=\u001B[39maxis, out\u001B[38;5;241m=\u001B[39mout, \u001B[38;5;241m*\u001B[39m\u001B[38;5;241m*\u001B[39mkwds)\n",
      "File \u001B[1;32m~\\anaconda3\\envs\\mri_sarcoma_ai2\\lib\\site-packages\\numpy\\core\\fromnumeric.py:57\u001B[0m, in \u001B[0;36m_wrapfunc\u001B[1;34m(obj, method, *args, **kwds)\u001B[0m\n\u001B[0;32m     54\u001B[0m     \u001B[38;5;28;01mreturn\u001B[39;00m _wrapit(obj, method, \u001B[38;5;241m*\u001B[39margs, \u001B[38;5;241m*\u001B[39m\u001B[38;5;241m*\u001B[39mkwds)\n\u001B[0;32m     56\u001B[0m \u001B[38;5;28;01mtry\u001B[39;00m:\n\u001B[1;32m---> 57\u001B[0m     \u001B[38;5;28;01mreturn\u001B[39;00m bound(\u001B[38;5;241m*\u001B[39margs, \u001B[38;5;241m*\u001B[39m\u001B[38;5;241m*\u001B[39mkwds)\n\u001B[0;32m     58\u001B[0m \u001B[38;5;28;01mexcept\u001B[39;00m \u001B[38;5;167;01mTypeError\u001B[39;00m:\n\u001B[0;32m     59\u001B[0m     \u001B[38;5;66;03m# A TypeError occurs if the object does have such a method in its\u001B[39;00m\n\u001B[0;32m     60\u001B[0m     \u001B[38;5;66;03m# class, but its signature is not identical to that of NumPy's. This\u001B[39;00m\n\u001B[1;32m   (...)\u001B[0m\n\u001B[0;32m     64\u001B[0m     \u001B[38;5;66;03m# Call _wrapit from within the except clause to ensure a potential\u001B[39;00m\n\u001B[0;32m     65\u001B[0m     \u001B[38;5;66;03m# exception has a traceback chain.\u001B[39;00m\n\u001B[0;32m     66\u001B[0m     \u001B[38;5;28;01mreturn\u001B[39;00m _wrapit(obj, method, \u001B[38;5;241m*\u001B[39margs, \u001B[38;5;241m*\u001B[39m\u001B[38;5;241m*\u001B[39mkwds)\n",
      "\u001B[1;31mValueError\u001B[0m: attempt to get argmax of an empty sequence"
     ]
    },
    {
     "data": {
      "text/plain": "<Figure size 2000x900 with 6 Axes>",
      "image/png": "[encoded data removed]"
     },
     "metadata": {},
     "output_type": "display_data"
    }
   ],
   "source": [
    "from autorad.data import ImageDataset\n",
    "import logging\n",
    "\n",
    "logging.getLogger().setLevel(logging.ERROR)\n",
    "\n",
    "image_dataset = ImageDataset(\n",
    "    paths_df,\n",
    "    ID_colname='ID',\n",
    "    root_dir=root_dir\n",
    ")\n",
    "\n",
    "image_dataset.plot_examples(n=5, window=None)"
   ],
   "metadata": {
    "collapsed": false
   }
  },
  {
   "cell_type": "code",
   "execution_count": null,
   "outputs": [],
   "source": [],
   "metadata": {
    "collapsed": false
   }
  }
 ],
 "metadata": {
  "kernelspec": {
   "display_name": "Python 3",
   "language": "python",
   "name": "python3"
  },
  "language_info": {
   "codemirror_mode": {
    "name": "ipython",
    "version": 2
   },
   "file_extension": ".py",
   "mimetype": "text/x-python",
   "name": "python",
   "nbconvert_exporter": "python",
   "pygments_lexer": "ipython2",
   "version": "2.7.6"
  }
 },
 "nbformat": 4,
 "nbformat_minor": 0
}
